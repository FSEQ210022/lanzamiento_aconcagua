{
  "cells": [
    {
      "cell_type": "raw",
      "metadata": {},
      "source": [
        "---\n",
        "title: \"Una radiografía a la sequía en la cuenca del Aconcagua\"\n",
        "subtitle: \"![](img/horizontal_SB_color.png){width=200} información para actuar en tiempos de sequía <br> ![](img/logo_umayor.png){width=300} ![](img/logo_hemera.png){width=400} \"\n",
        "author : \"Francisco Zambrano\"\n",
        "format: \n",
        "    revealjs:\n",
        "      theme: simple\n",
        "editor: visual\n",
        "title-slide-attributes:\n",
        "    data-background-image: \"img/bg.jpg\"\n",
        "    data-background-size: cover\n",
        "    data-background-opacity: \".4\"\n",
        "---"
      ],
      "id": "c984739c"
    },
    {
      "cell_type": "markdown",
      "metadata": {},
      "source": [
        "```{css}\n",
        ".center h2 {\n",
        "  text-align: center;\n",
        "}\n",
        "```\n",
        "\n",
        "\n",
        "# ¿Qué es la sequía? {background-color='orange'}\n",
        "\n",
        "## Cuando las condiciones climáticas cambian respecto a su situación normal provocando un déficit prolongado entre la oferta (precipitación) y la demanda de agua (temperatura) {.center}\n",
        "\n",
        "\n",
        "# ¿Cómo la medimos?\n",
        "\n",
        "# Indicadores de sequía\n",
        "\n",
        "# Sequía en la cuenca del río Aconcagua"
      ],
      "id": "94b937e8"
    }
  ],
  "metadata": {
    "kernelspec": {
      "name": "python3",
      "language": "python",
      "display_name": "Python 3 (ipykernel)"
    }
  },
  "nbformat": 4,
  "nbformat_minor": 5
}